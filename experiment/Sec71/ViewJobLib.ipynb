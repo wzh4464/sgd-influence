{
 "cells": [
  {
   "cell_type": "code",
   "execution_count": 2,
   "metadata": {},
   "outputs": [],
   "source": [
    "import numpy as np\n",
    "import pandas as pd\n",
    "import scipy.stats as stats\n",
    "import joblib\n",
    "from matplotlib import pyplot as plt\n",
    "import MyNet"
   ]
  },
  {
   "cell_type": "code",
   "execution_count": 3,
   "metadata": {},
   "outputs": [
    {
     "name": "stderr",
     "output_type": "stream",
     "text": [
      "/home/zihan/codes/sgd-influence/.venv/lib/python3.11/site-packages/torch/storage.py:414: FutureWarning: You are using `torch.load` with `weights_only=False` (the current default value), which uses the default pickle module implicitly. It is possible to construct malicious pickle data which will execute arbitrary code during unpickling (See https://github.com/pytorch/pytorch/blob/main/SECURITY.md#untrusted-models for more details). In a future release, the default value for `weights_only` will be flipped to `True`. This limits the functions that could be executed during unpickling. Arbitrary objects will no longer be allowed to be loaded via this mode unless they are explicitly allowlisted by the user via `torch.serialization.add_safe_globals`. We recommend you start setting `weights_only=True` for any use case where you don't have full control of the loaded file. Please open an issue on GitHub for any issues related to this experimental feature.\n",
      "  return torch.load(io.BytesIO(b))\n"
     ]
    },
    {
     "name": "stdout",
     "output_type": "stream",
     "text": [
      "dict_keys(['models', 'info', 'counterfactual', 'alpha', 'main_losses', 'train_losses'])\n"
     ]
    }
   ],
   "source": [
    "# path = '/home/zihan/codes/sgd-influence/experiment/Sec71/adult_dnn_up12/sgd000.dat'\n",
    "path = '/home/zihan/codes/sgd-influence/experiment/Sec71/adult_dnn/sgd000.dat'\n",
    "res = joblib.load(path)\n",
    "print(res.keys())"
   ]
  },
  {
   "cell_type": "code",
   "execution_count": 6,
   "metadata": {},
   "outputs": [
    {
     "name": "stdout",
     "output_type": "stream",
     "text": [
      "types of models: <class 'MyNet.NetList'>\n",
      "length of models: 121\n",
      "types of info: <class 'list'>\n",
      "length of info: 120\n",
      "keys of info: dict_keys(['idx', 'lr'])\n",
      "length of idx (batch size): 20\n",
      "epochs: 12.0\n",
      "types of counterfactual: <class 'list'>\n",
      "length of counterfactual: 200\n",
      "type of counterfactual[0]: <class 'MyNet.NetList'>\n",
      "length of counterfactual[0]: 121\n",
      "types of alpha: <class 'float'>\n",
      "alpha: 0.001\n",
      "types of main_losses: <class 'list'>\n",
      "length of main_losses: 8\n",
      "types of train_losses: <class 'numpy.ndarray'>\n",
      "shape of train_losses: (121,)\n"
     ]
    }
   ],
   "source": [
    "# dict_keys(['models', 'info', 'counterfactual', 'alpha', 'main_losses', 'train_losses'])\n",
    "\n",
    "# models: list of trained models\n",
    "# type of models: <class 'MyNet.NetList'>\n",
    "print(f\"types of models: {type(res['models'])}\")\n",
    "print(f\"length of models: {len(res['models'])}\")\n",
    "\n",
    "# info: dict of training information\n",
    "# type of info: <class 'list'>\n",
    "print(f\"types of info: {type(res['info'])}\")\n",
    "print(f\"length of info: {len(res['info'])}\")\n",
    "print(f\"keys of info: {res['info'][0].keys()}\")\n",
    "# lens of 'idx' of info[0]\n",
    "print(f\"length of idx (batch size): {len(res['info'][0]['idx'])}\")\n",
    "# for now `ntr` is fixed to 200, steps in each epoch = 200/batch_size, epochs = len(info)/steps in each epoch\n",
    "print(f\"epochs: {len(res['info'])/(200/len(res['info'][0]['idx']))}\")\n",
    "\n",
    "# counterfactual: dict of counterfactual information\n",
    "# type of counterfactual: <class 'List'>\n",
    "print(f\"types of counterfactual: {type(res['counterfactual'])}\")\n",
    "print(f\"length of counterfactual: {len(res['counterfactual'])}\")\n",
    "# type of 'counterfactual'.models[0]: <class 'MyNet.NetList'>\n",
    "print(f\"type of counterfactual[0]: {type(res['counterfactual'][0])}\")\n",
    "print(f\"length of counterfactual[0]: {len(res['counterfactual'][0])}\")\n",
    "\n",
    "# alpha: dict of alpha information\n",
    "print(f\"types of alpha: {type(res['alpha'])}\") # types of alpha: <class 'float'>\n",
    "print(f\"alpha: {res['alpha']}\")\n",
    "\n",
    "# main_losses: dict of main_losses information\n",
    "print(f\"types of main_losses: {type(res['main_losses'])}\") # <class 'List'>\n",
    "print(f\"length of main_losses: {len(res['main_losses'])}\")\n",
    "\n",
    "# train_losses: dict of train_losses information\n",
    "print(f\"types of train_losses: {type(res['train_losses'])}\") # <class 'numpy.ndarray'>\n",
    "print(f\"shape of train_losses: {res['train_losses'].shape}\")"
   ]
  },
  {
   "cell_type": "code",
   "execution_count": 30,
   "metadata": {},
   "outputs": [
    {
     "name": "stdout",
     "output_type": "stream",
     "text": [
      "[-1.65000558e-03 -8.10980797e-04 -4.36902046e-04  5.69194555e-04\n",
      " -6.34968281e-04  4.48644161e-04  3.51130962e-04 -1.07246637e-03\n",
      " -3.16321850e-04  3.53884697e-03 -1.03700161e-03 -5.13821840e-04\n",
      " -2.35795975e-04  6.35683537e-04  7.68899918e-06 -2.23249197e-04\n",
      "  3.16768885e-04 -3.98606062e-04 -3.80218029e-04 -4.01884317e-04\n",
      " -5.99026680e-04 -4.54527140e-03  1.41519308e-03 -4.46140766e-05\n",
      " -7.99924135e-04 -1.54122710e-03 -3.37064266e-03  7.66426325e-04\n",
      "  4.22686338e-04  2.65747309e-04  1.65700912e-05 -1.38431787e-04\n",
      " -2.22921371e-05 -2.87681818e-04  1.39522552e-03  8.90046358e-04\n",
      " -1.85400248e-04 -6.03556633e-04  2.83360481e-04  6.18100166e-04\n",
      " -9.03308392e-05  9.11980867e-04  5.25236130e-04 -9.02563334e-04\n",
      "  3.57687473e-04  5.85407019e-04 -1.16536021e-03 -9.87857580e-04\n",
      " -1.32748485e-03  4.44054604e-05  5.83529472e-05 -1.51365995e-04\n",
      " -7.00205564e-04 -2.36093998e-04 -1.49011612e-03  6.18696213e-05\n",
      " -2.54720449e-04 -1.66836381e-03  4.92125750e-04  9.59038734e-04\n",
      "  5.43177128e-04 -5.15133142e-04  1.58244371e-03 -1.37868524e-03\n",
      "  3.00407410e-05 -9.76085663e-04  6.16341829e-04 -1.51777267e-03\n",
      "  1.14744902e-03 -9.69737768e-04  2.94053555e-03 -2.98687816e-03\n",
      " -2.35080719e-04  2.23845243e-04 -6.26951456e-04 -1.52796507e-04\n",
      "  2.83271074e-04  9.33557749e-04  1.34110451e-04 -1.77216530e-03\n",
      " -1.51336193e-04 -8.82774591e-04 -1.69813633e-04 -6.49183989e-04\n",
      "  3.46541405e-04  1.49190426e-04  1.18651986e-03 -1.87757611e-03\n",
      " -6.61849976e-04 -4.58180904e-04  2.71111727e-04 -4.71830368e-03\n",
      "  1.03160739e-03  3.24189663e-04  1.05711818e-03 -3.61442566e-04\n",
      " -2.73525715e-04 -7.49856234e-04 -1.35564804e-03  1.67536736e-03\n",
      " -1.28746033e-05  2.79873610e-04  2.33760476e-03  6.09546900e-04\n",
      "  2.05069780e-04 -5.75274229e-04 -5.97423315e-03  1.89930201e-04\n",
      " -1.07097626e-03 -9.16957855e-04 -8.13156366e-04 -6.32822514e-04\n",
      "  1.62279606e-03 -3.06934118e-04  8.19951296e-04  4.11212444e-04\n",
      " -5.97000122e-04 -5.54889441e-04 -7.51614571e-04 -6.17355108e-04\n",
      "  7.90238380e-04  4.05040383e-03  6.23494387e-04  3.82542610e-04\n",
      "  2.00659037e-03 -4.75049019e-04  2.72431970e-03 -1.82038546e-03\n",
      " -7.18533993e-05 -2.19944119e-03 -1.54548883e-03  2.02715397e-04\n",
      "  1.27071142e-03 -2.58386135e-04  5.11646271e-04  2.67893076e-04\n",
      " -6.40302896e-04  2.39998102e-04 -3.63290310e-05  7.92741776e-06\n",
      " -6.42508268e-04 -9.25064087e-05 -5.48243523e-04  3.54430079e-03\n",
      "  1.23772025e-03  4.08113003e-04  1.30847096e-03  2.44379044e-05\n",
      " -5.41657209e-04  1.76638365e-04 -1.18136406e-04  1.37332082e-03\n",
      " -3.32087278e-04 -7.22944736e-04  1.06155872e-04  5.40494919e-04\n",
      "  1.08450651e-04  1.03297830e-03 -8.07613134e-04 -4.74065542e-04\n",
      " -7.13422894e-03 -1.82092190e-04 -8.36998224e-04 -2.08735466e-04\n",
      " -1.28519535e-03 -3.26627493e-03  1.41263008e-04  3.35961580e-04\n",
      " -5.42640686e-04 -7.67827034e-04  1.51625276e-03 -1.41698122e-03\n",
      "  8.13603401e-05 -9.27478075e-04  7.90745020e-04 -2.24870443e-03\n",
      " -7.05361366e-04 -2.17220187e-03 -9.18269157e-04 -1.43855810e-04\n",
      " -2.61861086e-03 -1.15972757e-03  5.47081232e-04 -1.09046698e-04\n",
      " -6.25759363e-04 -7.02023506e-04  5.26487827e-04 -4.84436750e-04\n",
      " -8.39859247e-04 -3.30984592e-04  3.37183475e-04 -2.86102295e-05\n",
      "  1.00275874e-03  1.03536248e-03  9.76026058e-04 -5.37842512e-04\n",
      " -8.51273537e-04  1.86982751e-03 -3.29554081e-04 -1.75297260e-04]\n"
     ]
    }
   ],
   "source": [
    "path2 = '/home/zihan/codes/sgd-influence/experiment/Sec71/adult_dnn_up12/infl_true000.dat'\n",
    "res2 = joblib.load(path2)\n",
    "print(res2)"
   ]
  }
 ],
 "metadata": {
  "kernelspec": {
   "display_name": "Python 3",
   "language": "python",
   "name": "python3"
  },
  "language_info": {
   "codemirror_mode": {
    "name": "ipython",
    "version": 3
   },
   "file_extension": ".py",
   "mimetype": "text/x-python",
   "name": "python",
   "nbconvert_exporter": "python",
   "pygments_lexer": "ipython3",
   "version": "3.11.5"
  }
 },
 "nbformat": 4,
 "nbformat_minor": 2
}
